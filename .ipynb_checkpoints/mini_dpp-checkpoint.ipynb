{
 "cells": [
  {
   "cell_type": "code",
   "execution_count": 1,
   "metadata": {},
   "outputs": [],
   "source": [
    "import os\n",
    "import api"
   ]
  },
  {
   "cell_type": "markdown",
   "metadata": {},
   "source": [
    "# 预处理"
   ]
  },
  {
   "cell_type": "markdown",
   "metadata": {},
   "source": [
    "### json读取"
   ]
  },
  {
   "cell_type": "markdown",
   "metadata": {},
   "source": [
    "<table style=\"float:left\">\n",
    "    <tr>\n",
    "        <th align=\"left\">参数名</th> \n",
    "        <th align=\"left\">参数值</th> \n",
    "        <th align=\"left\">参数说明</th>\n",
    "    </tr>\n",
    "    <tr>\n",
    "      <td align=\"left\"  rowspan=\"2\"><b>mini</b></td>\n",
    "      <td align=\"left\">False</td> \n",
    "      <td align=\"left\">a. NG/OK数量分布 </br>b. 缺陷类别数量分布</td> \n",
    "    </tr>\n",
    "    <tr>\n",
    "      <td align=\"left\">True</td> \n",
    "      <td align=\"left\">a. NG/OK数量分布 </br>b. 缺陷类别数量分布 </br>c. 缺陷宽高大小分布 </br>d. 缺陷面积分布占比图</td> \n",
    "    </tr>\n",
    "</table>"
   ]
  },
  {
   "cell_type": "code",
   "execution_count": null,
   "metadata": {
    "tags": []
   },
   "outputs": [],
   "source": [
    "jf = r\"D:\\PAD\\images\\test\\test.json\"\n",
    "api.read_json_api(jf,mini = True)"
   ]
  },
  {
   "cell_type": "code",
   "execution_count": null,
   "metadata": {},
   "outputs": [],
   "source": [
    "jf = r\"D:\\PAD\\images\\test\\filter_json.json\"\n",
    "api.read_json_api(jf,mini = True)"
   ]
  },
  {
   "cell_type": "markdown",
   "metadata": {},
   "source": [
    "## 现场采集标注重命名"
   ]
  },
  {
   "cell_type": "markdown",
   "metadata": {},
   "source": [
    "### 按类别采集"
   ]
  },
  {
   "cell_type": "markdown",
   "metadata": {},
   "source": [
    "<p style=\"color:#409EFF;font-weight:bold\">现场按工艺类别采集，每个文件夹以工艺命名<br />类别名必须改成英文(e.g.开裂 -> KL),一个文件夹只有一个标注</p>"
   ]
  },
  {
   "cell_type": "code",
   "execution_count": null,
   "metadata": {},
   "outputs": [],
   "source": [
    "img_path = r\"D:\\PAD\\1\"\n",
    "dst = r\"D:\\PAD\\1ng\"\n",
    "api.rename_classify_folder_api(img_path, dst, start=\"PAD_B_1230_1_NG_\")"
   ]
  },
  {
   "cell_type": "markdown",
   "metadata": {},
   "source": [
    "### 单文件夹采集"
   ]
  },
  {
   "cell_type": "markdown",
   "metadata": {},
   "source": [
    "<p style=\"color:#409EFF;font-weight:bold\">最常用的采集方式,只有1个文件夹,里面有n张图片和1个json</p>"
   ]
  },
  {
   "cell_type": "code",
   "execution_count": 13,
   "metadata": {},
   "outputs": [
    {
     "name": "stderr",
     "output_type": "stream",
     "text": [
      "100%|██████████████████████████████████████████████████████████████████████████████████| 13/13 [00:05<00:00,  2.42it/s]"
     ]
    },
    {
     "name": "stdout",
     "output_type": "stream",
     "text": [
      "\u001b[1;34m [INFO]--> 2023-02-22 16:37:25:success save json: D:\\PAD\\add\\rename_one_folder.json \u001b[0m\n"
     ]
    },
    {
     "name": "stderr",
     "output_type": "stream",
     "text": [
      "\n"
     ]
    }
   ],
   "source": [
    "jf = r\"\\\\Ds418\\nas3\\A-PAD\\ann_data\\20230220\\undetected\\via_export_json (6).json\"\n",
    "img_path = os.path.dirname(jf)\n",
    "dst = r\"D:\\PAD\\add\"\n",
    "api.rename_one_folder_api(img_path, jf, dst,start=\"PAD_B_0220_NG_LJ_\")"
   ]
  },
  {
   "cell_type": "markdown",
   "metadata": {},
   "source": [
    "### OK图重命名"
   ]
  },
  {
   "cell_type": "markdown",
   "metadata": {},
   "source": [
    "<p style=\"color:#409EFF;font-weight:bold\">常用于负样本生成</p>"
   ]
  },
  {
   "cell_type": "code",
   "execution_count": null,
   "metadata": {},
   "outputs": [],
   "source": [
    "img_path = r\"D:\\PAD\\92\\4\"\n",
    "dst = img_path\n",
    "api.rename_img_json_api(img_path,dst, start=\"\")#PAD_B_0109_OK_"
   ]
  },
  {
   "cell_type": "markdown",
   "metadata": {},
   "source": [
    "## JSON操作"
   ]
  },
  {
   "cell_type": "markdown",
   "metadata": {},
   "source": [
    "### json合并"
   ]
  },
  {
   "cell_type": "code",
   "execution_count": null,
   "metadata": {},
   "outputs": [],
   "source": [
    "jf_path = r\"D:\\val\\zk_m2\"\n",
    "api.merge_json_api(jf_path)"
   ]
  },
  {
   "cell_type": "markdown",
   "metadata": {},
   "source": [
    "### 绘制标注"
   ]
  },
  {
   "cell_type": "markdown",
   "metadata": {},
   "source": [
    "<div>\n",
    "<div style=\"float:left\">\n",
    "  <table border=\"2\" cellspacing=\"10\">\n",
    "    <tr>\n",
    "        <th align=\"left\">参数名</th> \n",
    "        <th align=\"left\">参数值</th> \n",
    "        <th align=\"left\">参数说明</th> \n",
    "    </tr>\n",
    "    <tr>\n",
    "    <td align=\"left\" rowspan=\"2\"><b>shape</b></td>\n",
    "      <td align=\"center\">POLYGON</td>\n",
    "      <td align=\"left\">多边形</td> \n",
    "    </tr>\n",
    "    <tr>\n",
    "      <td align=\"center\">RECT</td>\n",
    "      <td align=\"left\">矩形</td> \n",
    "    </tr>\n",
    "    <tr>\n",
    "      <td align=\"left\" rowspan=\"2\"><b>color</b></td>\n",
    "      <td align=\"center\">False</td>\n",
    "      <td align=\"left\">默认标注json绿色，推理json红色</td> \n",
    "    </tr>\n",
    "    <tr>\n",
    "      <td align=\"center\">(255,0,0)</td>\n",
    "      <td align=\"left\">颜色信息</td> \n",
    "    </tr>\n",
    "    <tr>\n",
    "      <td align=\"left\" rowspan=\"2\"><b>classid</b></td>\n",
    "      <td align=\"center\">False</td>\n",
    "      <td align=\"left\">默认全标签</td> \n",
    "    </tr>\n",
    "    <tr>\n",
    "      <td align=\"center\">[1,2]</td>\n",
    "      <td align=\"left\">绘制id列表</td> \n",
    "    </tr>\n",
    "  </table>\n",
    "</div>\n",
    "\n",
    "<div style=\"margin-left:10px\"> \n",
    "  <table border=\"2\" cellspacing=\"10\" >\n",
    "    <tr>\n",
    "        <th align=\"left\">参数名</th> \n",
    "        <th align=\"left\">参数值</th> \n",
    "        <th align=\"left\">参数说明</th> \n",
    "    </tr>\n",
    "    <tr>\n",
    "      <td align=\"left\" ><b>label</b></td>\n",
    "      <td align=\"center\">False/True</td>\n",
    "      <td align=\"left\">标签</td> \n",
    "    </tr>\n",
    "    <tr>\n",
    "      <td align=\"left\"><b>score</b></td>\n",
    "      <td align=\"center\">False/True</td> \n",
    "      <td align=\"left\">得分</td> \n",
    "    </tr>\n",
    "    <tr>\n",
    "      <td align=\"left\"><b>area</b></td>\n",
    "      <td align=\"center\">False/True</td> \n",
    "      <td align=\"left\">面积</td> \n",
    "    </tr>\n",
    "    <tr>\n",
    "      <td align=\"left\"><b>font_size</b></td>\n",
    "      <td align=\"center\">INT</td> \n",
    "      <td align=\"left\">字体大小</td> \n",
    "    </tr>  \n",
    "  </table>\n",
    "</div>\n",
    "</div>"
   ]
  },
  {
   "cell_type": "code",
   "execution_count": 5,
   "metadata": {},
   "outputs": [
    {
     "name": "stderr",
     "output_type": "stream",
     "text": [
      "100%|██████████████████████████████████████████████████████████████████████████████████| 18/18 [00:37<00:00,  2.06s/it]\n"
     ]
    }
   ],
   "source": [
    "import api,os\n",
    "jf = r\"\\\\Ds418\\NAS3\\A-PAD\\ann_data\\20230220\\undetected\\via_to_json.json\"\n",
    "inf_jf = r\"C:\\Users\\lubin\\Desktop\\pad\\NG\\model_0489999.json\"\n",
    "img_path = os.path.dirname(jf)\n",
    "dst = img_path+\"_rect\"\n",
    "draw={\"shape\":\"RECT\",\"label\":True,\"score\":False,\"area\":False,\"color\":False,\"font_size\":1,\"classid\":False}\n",
    "api.draw_mask_api(img_path, jfs=[jf], dst=dst, spotcheck=False,draw=draw)"
   ]
  },
  {
   "cell_type": "markdown",
   "metadata": {},
   "source": [
    "### 根据图片过滤json"
   ]
  },
  {
   "cell_type": "code",
   "execution_count": 8,
   "metadata": {},
   "outputs": [
    {
     "name": "stdout",
     "output_type": "stream",
     "text": [
      "\u001b[1;34m [INFO]--> 2023-02-21 16:00:56:success save json: D:\\PAD\\124\\del\\filter_json.json \u001b[0m\n"
     ]
    }
   ],
   "source": [
    "jf = r\"D:\\PAD\\124\\filter_json.json\"\n",
    "img_path = r\"D:\\PAD\\124\\del\"\n",
    "dst = img_path\n",
    "api.filter_json_by_img_api(img_path,jf,dst)"
   ]
  },
  {
   "cell_type": "markdown",
   "metadata": {},
   "source": [
    "### 按类别裁切小图"
   ]
  },
  {
   "cell_type": "markdown",
   "metadata": {},
   "source": [
    "<p style=\"color:#409EFF;font-weight:bold\">根据 json标签生成以标签命名的文件夹，每个文件夹保存相应类别小图</p>\n",
    "<div style=\"float:left\">\n",
    "    <table>\n",
    "    <tr>\n",
    "        <th>参数</th>\n",
    "    <tr/>\n",
    "    <tr>\n",
    "        <td align=\"left\"><b>scale</b></td> \n",
    "        <td align=\"center\">False</td>\n",
    "        <td align=\"left\" rowspan=\"2\">GT_BOX偏移offset裁剪<br>输出大小与缺陷本身大小接近,长宽比偏大时不清晰</td>\n",
    "    </tr>\n",
    "    <tr>\n",
    "        <td align=\"left\"><b>offset</b></td>\n",
    "        <td align=\"center\">50</td> \n",
    "    </tr>\n",
    "    </table>\n",
    "</div>\n",
    "<div style=\"margin-left:20px\">\n",
    "    <table>\n",
    "    <tr>\n",
    "        <th>参数</th>\n",
    "    <tr/>\n",
    "    <tr>\n",
    "        <td align=\"left\"><b>scale</b></td> \n",
    "        <td align=\"center\">True</td>\n",
    "        <td align=\"left\" rowspan=\"2\">以crop_size的倍数裁剪缺陷<br>输出缺陷总体比列接近,含有的背景更多</td>\n",
    "    </tr>\n",
    "    <tr>\n",
    "        <td align=\"left\"><b>crop_size</b></td>\n",
    "        <td align=\"center\">120</td> \n",
    "    </tr>\n",
    "    </table>\n",
    "</div>"
   ]
  },
  {
   "cell_type": "code",
   "execution_count": null,
   "metadata": {},
   "outputs": [],
   "source": [
    "jf = r\"D:\\PAD\\ng\\origin_mask.json\"\n",
    "img_path = os.path.dirname(jf)\n",
    "dst = img_path+\"_classify\"\n",
    "api.crop_small_img_api(img_path, jf, dst, scale=True,offset=50,crop_size=120)"
   ]
  },
  {
   "cell_type": "markdown",
   "metadata": {},
   "source": [
    "### 按类别小图生成JSON"
   ]
  },
  {
   "cell_type": "markdown",
   "metadata": {},
   "source": [
    "<p style=\"color:#409EFF;font-weight:bold\">手动调整各个类别文件夹中小图后,生成分类后的json</p>\n",
    "<p style=\"color:red;font-weight:bold\">可手动创建 <i>mark</i>,<i>del</i> 两个文件夹用于挑选需要重新标注和需要删除的原图</p>"
   ]
  },
  {
   "cell_type": "code",
   "execution_count": 2,
   "metadata": {},
   "outputs": [
    {
     "name": "stderr",
     "output_type": "stream",
     "text": [
      "100%|███████████████████████████████████████████████████████████████████████████████████| 8/8 [00:00<00:00, 891.31it/s]\n"
     ]
    },
    {
     "name": "stdout",
     "output_type": "stream",
     "text": [
      "\u001b[1;34m [INFO]--> 2023-02-21 10:47:29:success save json: D:\\PAD\\noline\\images\\val\\mark\\mark.json \u001b[0m\n",
      "\u001b[1;34m [INFO]--> 2023-02-21 10:47:29:success save json: D:\\PAD\\noline\\images\\val\\del\\del.json \u001b[0m\n",
      "\u001b[1;34m [INFO]--> 2023-02-21 10:47:29:success save json: D:\\PAD\\noline\\images\\val\\reclasssify.json \u001b[0m\n"
     ]
    }
   ],
   "source": [
    "img_path = r\"D:\\PAD\\noline\\images\\val_classify\"\n",
    "jf = r\"D:\\PAD\\noline\\images\\val\\val.json\"\n",
    "dst = os.path.dirname(jf)\n",
    "api.classify_json_api(img_path,jf,dst)"
   ]
  },
  {
   "cell_type": "markdown",
   "metadata": {},
   "source": [
    "## 切分数据集"
   ]
  },
  {
   "cell_type": "markdown",
   "metadata": {},
   "source": [
    "### 随机拆分"
   ]
  },
  {
   "cell_type": "markdown",
   "metadata": {},
   "source": [
    "<table border=\"2\" cellspacing=\"30\" style=\"float:left\">\n",
    "    <tr>\n",
    "      <td align=\"left\"><b>repeat</b></td>\n",
    "      <td align=\"center\">单图多缺陷降维</td>\n",
    "    </tr>\n",
    "    <tr>\n",
    "      <td align=\"left\"><b>ratio</b></td>\n",
    "      <td align=\"center\">测试集/总数据集比值</td>\n",
    "    </tr>\n",
    "</table>"
   ]
  },
  {
   "cell_type": "code",
   "execution_count": null,
   "metadata": {},
   "outputs": [],
   "source": [
    "jf = r\"D:\\PAD\\images\\images\\data_merge.json\"\n",
    "img_path = os.path.dirname(jf)\n",
    "repeat = 2\n",
    "ratio = 1/4  #（训练集3/测试1）\n",
    "api.dataset_partition_api(img_path,jf,repeat,ratio,seed=88)"
   ]
  },
  {
   "cell_type": "markdown",
   "metadata": {},
   "source": [
    "### 工位-形态拆分"
   ]
  },
  {
   "cell_type": "markdown",
   "metadata": {},
   "source": [
    "1. 图片按工位切分(无点位信息图片自动移至error文件夹，手动调整文件分布)"
   ]
  },
  {
   "cell_type": "code",
   "execution_count": null,
   "metadata": {},
   "outputs": [],
   "source": [
    "img_path = r\"D:\\PAD\\images\"\n",
    "api.split_img_by_station_api(img_path)"
   ]
  },
  {
   "cell_type": "markdown",
   "metadata": {},
   "source": [
    "2. 按点位分布拆分json,并按每个文件夹拆分类别小图，手动调整类别信息"
   ]
  },
  {
   "cell_type": "code",
   "execution_count": null,
   "metadata": {},
   "outputs": [],
   "source": [
    "jf = r\"D:\\PAD\\images\\data_merge.json\"\n",
    "img_path = os.path.dirname(jf)\n",
    "api.label_partition_by_station_api(img_path,jf, scale=True,offset=50,crop_size=120)"
   ]
  },
  {
   "cell_type": "markdown",
   "metadata": {},
   "source": [
    "3. 按每个点位每种形态重新生成json,拆分数据集"
   ]
  },
  {
   "cell_type": "code",
   "execution_count": null,
   "metadata": {},
   "outputs": [],
   "source": [
    "folder_path = r\"D:\\PAD\\images\"\n",
    "api.dataset_partition_by_station_api(folder_path,repeat=2,ratio=1/4,seed=88)"
   ]
  },
  {
   "cell_type": "markdown",
   "metadata": {},
   "source": [
    "## json格式转换"
   ]
  },
  {
   "cell_type": "markdown",
   "metadata": {},
   "source": [
    "### json => via"
   ]
  },
  {
   "cell_type": "code",
   "execution_count": 9,
   "metadata": {},
   "outputs": [
    {
     "name": "stdout",
     "output_type": "stream",
     "text": [
      "\u001b[1;34m [INFO]--> 2023-02-21 16:01:28:success save json: D:\\PAD\\124\\DH\\json_to_via.json \u001b[0m\n"
     ]
    }
   ],
   "source": [
    "jf = r\"D:\\PAD\\124\\DH\\filter_json.json\"\n",
    "img_path = os.path.dirname(jf)\n",
    "api.json_to_via_api(img_path, jf)"
   ]
  },
  {
   "cell_type": "markdown",
   "metadata": {},
   "source": [
    "### via => json"
   ]
  },
  {
   "cell_type": "markdown",
   "metadata": {},
   "source": [
    "<p style=\"color:#409EFF;font-weight:bold\">VIA标注软件格式去除后缀</p>"
   ]
  },
  {
   "cell_type": "code",
   "execution_count": 3,
   "metadata": {
    "tags": []
   },
   "outputs": [
    {
     "name": "stdout",
     "output_type": "stream",
     "text": [
      "\u001b[1;34m [INFO]--> 2023-02-21 11:35:16:success save json: \\\\Ds418\\NAS3\\A-PAD\\ann_data\\20230220\\detected\\via_to_json.json \u001b[0m\n"
     ]
    }
   ],
   "source": [
    "jf = r\"\\\\Ds418\\NAS3\\A-PAD\\ann_data\\20230220\\detected\\via_export_json (5).json\"\n",
    "api.via_to_json_api(jf)"
   ]
  },
  {
   "cell_type": "markdown",
   "metadata": {},
   "source": [
    "## 图像处理"
   ]
  },
  {
   "cell_type": "markdown",
   "metadata": {},
   "source": [
    "### 分割"
   ]
  },
  {
   "cell_type": "markdown",
   "metadata": {},
   "source": [
    "<p style=\"color:#409EFF;font-weight:bold\">相关参数路径：dpp/dataset/transforms/config.yaml</p>\n",
    "<div style=\"float:left\">\n",
    "    <table border=\"2\" cellspacing=\"0\">\n",
    "        <tr>\n",
    "          <th align=\"left\">分割方式</th>\n",
    "          <th align=\"left\"></th>\n",
    "          <th align=\"left\">config.yaml参数说明</th>\n",
    "        </tr>\n",
    "        <tr>\n",
    "          <td align=\"left\" rowspan=\"2\">AvgSeg</td>\n",
    "          <td align=\"center\" rowspan=\"2\">等比分割</td>\n",
    "          <td align=\"left\">crop_size：均分大小</td> \n",
    "        </tr>\n",
    "        <tr>\n",
    "          <td align=\"left\">extra：FILL(填充), DROP(丢弃),KEEP(保留)</td> \n",
    "        </tr>\n",
    "        <tr>\n",
    "          <td align=\"left\">JsonSeg</td>\n",
    "          <td align=\"center\">软件配置文件分割</td>\n",
    "          <td align=\"left\">jfs：软件每个工位配置文件json</td>\n",
    "        </tr>\n",
    "        <tr>\n",
    "          <td align=\"left\">CeSeg</td>\n",
    "          <td align=\"center\">3工位侧面相机分割</td>\n",
    "          <td align=\"left\">start,end：自定义起始分割位置</td>\n",
    "        </tr>\n",
    "        <tr>\n",
    "          <td align=\"left\">Cv2Seg</td>\n",
    "          <td align=\"center\">边缘提取</td>\n",
    "          <td align=\"left\">二值化，卷积等参数</td>\n",
    "        </tr>\n",
    "        <tr>\n",
    "          <td align=\"left\">ThreeSeg</td>\n",
    "          <td align=\"center\">后盖3工位3000*4096分割</td>\n",
    "          <td align=\"left\">参数固定</td>\n",
    "        </tr>\n",
    "    </table>\n",
    "</div>"
   ]
  },
  {
   "cell_type": "code",
   "execution_count": null,
   "metadata": {},
   "outputs": [],
   "source": [
    "import api,os\n",
    "jf = r\"D:\\PAD\\tongji\\1\\4\"\n",
    "src = os.path.dirname(jf)\n",
    "# jf = None\n",
    "dst = src+\"_segment\"\n",
    "api.img_segment_api(\"AvgSeg\", src, jf, dst)"
   ]
  },
  {
   "cell_type": "markdown",
   "metadata": {},
   "source": [
    "### 合并"
   ]
  },
  {
   "cell_type": "markdown",
   "metadata": {},
   "source": [
    "<p style=\"color:#409EFF;font-weight:bold\"> 由于同一批数据会多次执行,dst要以 \"_xx\" 命名,新生成的图片名会以 \"_\" 后的名称添加后缀</p>\n",
    "<div style=\"float:left\">\n",
    "    <table border=\"2\" cellspacing=\"30\">\n",
    "        <tr>\n",
    "          <th align=\"left\">合并方式</th>\n",
    "        </tr>\n",
    "        <tr>\n",
    "          <td align=\"left\">AvgMerge</td>\n",
    "          <td align=\"center\">均匀合并</td>\n",
    "        </tr>\n",
    "        <tr>\n",
    "          <td align=\"left\">ZkMerge</td>\n",
    "          <td align=\"center\">宽度上合并</td>\n",
    "        </tr>\n",
    "    </table>\n",
    "</div>"
   ]
  },
  {
   "cell_type": "code",
   "execution_count": null,
   "metadata": {},
   "outputs": [],
   "source": [
    "import api,os\n",
    "jf = r\"D:\\val\\32m_segment\\segment.json\"\n",
    "src = os.path.dirname(jf)\n",
    "# jf = None\n",
    "dst = src+\"_m0\"\n",
    "api.img_merge_api(\"AvgMerge\", src, jf, dst,size_w=4096) "
   ]
  },
  {
   "cell_type": "markdown",
   "metadata": {},
   "source": [
    "# 训练相关"
   ]
  },
  {
   "cell_type": "markdown",
   "metadata": {},
   "source": [
    "### 计算数据集均值方差"
   ]
  },
  {
   "cell_type": "code",
   "execution_count": null,
   "metadata": {},
   "outputs": [],
   "source": [
    "img_path = r\"D:\\val\\32m\"\n",
    "channel = 3   # 通道\n",
    "api.cal_mean_std_api(img_path,channel)"
   ]
  },
  {
   "cell_type": "markdown",
   "metadata": {},
   "source": [
    "### 生成COCO"
   ]
  },
  {
   "cell_type": "code",
   "execution_count": null,
   "metadata": {},
   "outputs": [],
   "source": [
    "jf = r\"D:\\val\\32m\\ng.json\"\n",
    "img_path = os.path.dirname(jf)\n",
    "dst = os.path.dirname(img_path)+'/annotations'\n",
    "api.save_coco_api(img_path, jf, dst)"
   ]
  },
  {
   "cell_type": "markdown",
   "metadata": {},
   "source": [
    "### 生成npz\n"
   ]
  },
  {
   "cell_type": "markdown",
   "metadata": {},
   "source": [
    "python prepare_npz.py --dataset-name ./"
   ]
  },
  {
   "cell_type": "markdown",
   "metadata": {},
   "source": [
    "### 训练脚本"
   ]
  },
  {
   "cell_type": "markdown",
   "metadata": {},
   "source": [
    "python train.py --num-gpus 2 --dist-url auto"
   ]
  },
  {
   "cell_type": "code",
   "execution_count": null,
   "metadata": {},
   "outputs": [],
   "source": []
  }
 ],
 "metadata": {
  "kernelspec": {
   "display_name": "Python 3 (ipykernel)",
   "language": "python",
   "name": "python3"
  },
  "language_info": {
   "codemirror_mode": {
    "name": "ipython",
    "version": 3
   },
   "file_extension": ".py",
   "mimetype": "text/x-python",
   "name": "python",
   "nbconvert_exporter": "python",
   "pygments_lexer": "ipython3",
   "version": "3.7.0"
  },
  "vscode": {
   "interpreter": {
    "hash": "2fb754d125fc8835b4feb6812995f64fcddf495407b14f2a3d533b8335a57ccb"
   }
  }
 },
 "nbformat": 4,
 "nbformat_minor": 4
}
